{
 "cells": [
  {
   "cell_type": "code",
   "execution_count": 2,
   "id": "c0bb972c-75c7-4239-b7af-fa8d5cd993b3",
   "metadata": {},
   "outputs": [],
   "source": [
    "import glob\n",
    "import re\n",
    "\n",
    "import dill as pickle\n",
    "import matplotlib.pyplot as plt\n",
    "import numpy as np\n",
    "import pandas as pd\n",
    "import pikepdf\n",
    "import pypdf\n",
    "import seaborn as sns\n",
    "from common_setup import project_info, project_paths\n",
    "import plotting_code\n",
    "\n",
    "sk_dir = f\"{project_paths.skeletons}/skeleton_files\"\n",
    "base_path = f\"{project_paths.base}/pipelines\"\n",
    "height_bounds = np.load(f\"{project_paths.data}/height_bounds_v1.npy\")\n",
    "width_bounds = np.load(f\"{project_paths.data}/width_bounds_v1.npy\")\n",
    "layer_bounds = np.load(f\"{project_paths.data}/layer_bounds_v3.npy\")\n",
    "\n",
    "feature_dir = f\"{project_paths.data}/features/features_feb7\"\n",
    "\n",
    "height_bounds = height_bounds - height_bounds[0]\n",
    "\n",
    "version = 795\n",
    "data_dir = f\"paper_versions/v{version}/data\"\n",
    "plot_dir = f\"paper_versions/v{version}/plots\"\n",
    "plot_data_dir = f\"{plot_dir}/associated_data\"\n",
    "\n",
    "ct_df = pd.read_pickle(f\"{data_dir}/hlabel_types.pkl\")\n",
    "ct_df = ct_df.reset_index(drop=True)\n",
    "dfct_e = pd.read_feather(f\"{data_dir}/dfct_e.feather\")\n",
    "motif_df = pd.read_feather(f'paper_versions/v{version}/data/inhibitory_motif_table.feather')"
   ]
  },
  {
   "cell_type": "code",
   "execution_count": 3,
   "id": "a43b1e76-6dd9-4815-9814-3566d8d181b3",
   "metadata": {},
   "outputs": [],
   "source": [
    "files = glob.glob(f\"{plot_dir}/alt_full_morpho_row_*.pdf\")\n",
    "\n",
    "file_df = pd.DataFrame(\n",
    "    {\n",
    "        'filename': files,\n",
    "    }\n",
    ")"
   ]
  },
  {
   "cell_type": "code",
   "execution_count": 17,
   "id": "7b706db9-456b-421c-a28f-2598192f5354",
   "metadata": {},
   "outputs": [],
   "source": [
    "fnames = []\n",
    "for ii in range(len(files)):\n",
    "    fnames.append(f\"{plot_dir}/alt_full_morpho_row_{ii}.pdf\")"
   ]
  },
  {
   "cell_type": "code",
   "execution_count": 20,
   "id": "b53ca876-41a9-4475-b0e1-edf0d93b8c39",
   "metadata": {},
   "outputs": [],
   "source": [
    "import pathlib"
   ]
  },
  {
   "cell_type": "code",
   "execution_count": 21,
   "id": "3efabcca-cbfb-4c74-9750-8069f02318dc",
   "metadata": {},
   "outputs": [],
   "source": [
    "plot_path = pathlib.Path(plot_dir)"
   ]
  },
  {
   "cell_type": "code",
   "execution_count": 23,
   "id": "b2949686-1211-4e36-aab9-dca9c3f27252",
   "metadata": {},
   "outputs": [
    {
     "data": {
      "text/plain": [
       "PosixPath('paper_versions/v795/plots/blah.pdf')"
      ]
     },
     "execution_count": 23,
     "metadata": {},
     "output_type": "execute_result"
    }
   ],
   "source": [
    "plot_path / 'blah.pdf'"
   ]
  },
  {
   "cell_type": "code",
   "execution_count": 24,
   "id": "cb08c709-019e-4f8b-9734-b00587283e35",
   "metadata": {},
   "outputs": [],
   "source": [
    "merger = pypdf.PdfWriter()\n",
    "for fn in fnames:\n",
    "    merger.append(fn)\n",
    "merger.write(plot_path / 'all_cell_merge.pdf')\n",
    "merger.close()"
   ]
  },
  {
   "cell_type": "code",
   "execution_count": null,
   "id": "351bfee7-c5c8-441c-8921-ce705a938062",
   "metadata": {},
   "outputs": [],
   "source": []
  }
 ],
 "metadata": {
  "kernelspec": {
   "display_name": "analysis_m1",
   "language": "python",
   "name": "analysis_m1"
  },
  "language_info": {
   "codemirror_mode": {
    "name": "ipython",
    "version": 3
   },
   "file_extension": ".py",
   "mimetype": "text/x-python",
   "name": "python",
   "nbconvert_exporter": "python",
   "pygments_lexer": "ipython3",
   "version": "3.10.9"
  }
 },
 "nbformat": 4,
 "nbformat_minor": 5
}
