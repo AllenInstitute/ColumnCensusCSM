{
 "cells": [
  {
   "cell_type": "markdown",
   "metadata": {},
   "source": [
    "update a very simple database with what skeletons have already been created"
   ]
  },
  {
   "cell_type": "code",
   "execution_count": 4,
   "metadata": {},
   "outputs": [],
   "source": [
    "import sys\n",
    "import os\n",
    "import glob\n",
    "import re\n",
    "import skel_db\n",
    "from skel_db import add_finished_skeletons, skeletons_created\n",
    "\n",
    "sys.path.append(os.path.abspath('..'))\n",
    "from common_setup import project_info, project_paths"
   ]
  },
  {
   "cell_type": "code",
   "execution_count": 2,
   "metadata": {},
   "outputs": [],
   "source": [
    "skel_dir = f\"{project_paths.skeletons}/skeleton_files\"\n",
    "skel_files = glob.glob(f\"{skel_dir}/*.h5\")"
   ]
  },
  {
   "cell_type": "code",
   "execution_count": 3,
   "metadata": {},
   "outputs": [],
   "source": [
    "skinds = []\n",
    "created = []\n",
    "for f in skel_files:\n",
    "    qry = re.search('(\\d*)\\.h5', f)\n",
    "    skinds.append(int(qry.groups()[0]))\n",
    "    created.append(True)"
   ]
  }
 ],
 "metadata": {
  "kernelspec": {
   "display_name": "analysis",
   "language": "python",
   "name": "analysis"
  },
  "language_info": {
   "codemirror_mode": {
    "name": "ipython",
    "version": 3
   },
   "file_extension": ".py",
   "mimetype": "text/x-python",
   "name": "python",
   "nbconvert_exporter": "python",
   "pygments_lexer": "ipython3",
   "version": "3.10.8"
  }
 },
 "nbformat": 4,
 "nbformat_minor": 4
}
