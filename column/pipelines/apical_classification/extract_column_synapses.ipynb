{
 "cells": [
  {
   "cell_type": "code",
   "execution_count": 3,
   "metadata": {},
   "outputs": [
    {
     "ename": "ModuleNotFoundError",
     "evalue": "No module named 'apical_features'",
     "output_type": "error",
     "traceback": [
      "\u001b[0;31m---------------------------------------------------------------------------\u001b[0m",
      "\u001b[0;31mModuleNotFoundError\u001b[0m                       Traceback (most recent call last)",
      "Cell \u001b[0;32mIn[3], line 12\u001b[0m\n\u001b[1;32m      9\u001b[0m \u001b[38;5;28;01mfrom\u001b[39;00m \u001b[38;5;21;01mmeshparty\u001b[39;00m \u001b[38;5;28;01mimport\u001b[39;00m meshwork\n\u001b[1;32m     11\u001b[0m \u001b[38;5;66;03m# from common_setup import project_info, project_paths\u001b[39;00m\n\u001b[0;32m---> 12\u001b[0m \u001b[38;5;28;01mfrom\u001b[39;00m \u001b[38;5;21;01mapical_features\u001b[39;00m \u001b[38;5;28;01mimport\u001b[39;00m \u001b[38;5;241m*\u001b[39m\n\u001b[1;32m     13\u001b[0m \u001b[38;5;28;01mfrom\u001b[39;00m \u001b[38;5;21;01mplotting_code\u001b[39;00m \u001b[38;5;28;01mimport\u001b[39;00m plot_layers\n\u001b[1;32m     14\u001b[0m \u001b[38;5;28;01mfrom\u001b[39;00m \u001b[38;5;21;01mapical_model_utils\u001b[39;00m \u001b[38;5;28;01mimport\u001b[39;00m \u001b[38;5;241m*\u001b[39m\n",
      "\u001b[0;31mModuleNotFoundError\u001b[0m: No module named 'apical_features'"
     ]
    }
   ],
   "source": [
    "import joblib\n",
    "\n",
    "import numpy as np\n",
    "import pandas as pd\n",
    "import matplotlib.pyplot as plt\n",
    "import seaborn as sns\n",
    "\n",
    "from caveclient import CAVEclient\n",
    "from meshparty import meshwork\n",
    "\n",
    "# from common_setup import project_info, project_paths\n",
    "from apical_features import *\n",
    "from plotting_code import plot_layers\n",
    "from apical_model_utils import *"
   ]
  },
  {
   "cell_type": "code",
   "execution_count": 4,
   "metadata": {},
   "outputs": [],
   "source": [
    "# skel_dir = f'{project_paths.skeletons}/skeleton_files'\n",
    "# preview_dir = f'{project_paths.skeletons}/previews'\n",
    "# synapse_dir = f'{project_paths.data}/synapse_files'\n",
    "model_dir = f'models'\n",
    "\n",
    "# layer_bnds = np.load(f'{project_paths.data}/layer_bounds_v1.npy')\n",
    "# height_bounds = np.load(f'{project_paths.data}/height_bounds_v1.npy')\n",
    "# width_bounds = np.load(f'{project_paths.data}/width_bounds_v1.npy')"
   ]
  },
  {
   "cell_type": "code",
   "execution_count": 6,
   "metadata": {},
   "outputs": [],
   "source": [
    "import joblib\n",
    "rfc = joblib.load(f'{model_dir}/point_model_current.pkl')\n",
    "feature_cols = joblib.load(f'{model_dir}/feature_cols_current.pkl')\n",
    "branch_params = joblib.load(f'{model_dir}/branch_params_current.pkl')\n",
    "\n",
    "# BranchClassifier = BranchClassifierFactory(rfc, feature_cols)\n",
    "# branch_classifier = BranchClassifier(**branch_params)"
   ]
  },
  {
   "cell_type": "code",
   "execution_count": 7,
   "metadata": {},
   "outputs": [
    {
     "data": {
      "text/plain": [
       "{'min_length': 50,\n",
       " 'logodds_clip': 200,\n",
       " 'softmax_scaler': 50,\n",
       " 'bin_num': 80,\n",
       " 'logodds_thresh': 0,\n",
       " 'softmax_thresh': 0.3}"
      ]
     },
     "execution_count": 7,
     "metadata": {},
     "output_type": "execute_result"
    }
   ],
   "source": [
    "branch_params"
   ]
  },
  {
   "cell_type": "code",
   "execution_count": 13,
   "metadata": {},
   "outputs": [],
   "source": [
    "client = CAVEclient(project_info.datastack)"
   ]
  },
  {
   "cell_type": "code",
   "execution_count": 14,
   "metadata": {},
   "outputs": [],
   "source": [
    "import tqdm\n",
    "from loguru import logger\n",
    "_ = logger.add('apical_classification.log')"
   ]
  },
  {
   "cell_type": "code",
   "execution_count": null,
   "metadata": {},
   "outputs": [],
   "source": [
    "column"
   ]
  },
  {
   "cell_type": "code",
   "execution_count": null,
   "metadata": {},
   "outputs": [],
   "source": [
    "import os"
   ]
  },
  {
   "cell_type": "code",
   "execution_count": null,
   "metadata": {},
   "outputs": [],
   "source": [
    "oid = 864691135510640592\n",
    "row = column_df.query('pt_root_id == @oid').iloc[0]"
   ]
  },
  {
   "cell_type": "code",
   "execution_count": null,
   "metadata": {},
   "outputs": [],
   "source": [
    "nrn = meshwork.load_meshwork(f'{skel_dir}/{oid}.h5')\n",
    "sk = nrn.skeleton\n",
    "if row['classification_system'] == 'aibs_coarse_excitatory': \n",
    "    feature_df = process_apical_features(nrn)\n",
    "\n",
    "    dendrite_synapse_indices = nrn.anno.post_syn.df.index\n",
    "    dendrite_skind_mask = sk.node_mask\n",
    "    nrn.reset_mask()\n",
    "\n",
    "    feature_array = feature_df[point_feature_columns].values\n",
    "    feature_df['apical_prob'] = point_model.predict_proba(feature_array)[:,1]\n",
    "\n",
    "    ap_df_grp = feature_df[['root_id', 'base_skind', 'apical_prob']].groupby(['root_id', 'base_skind'])\n",
    "    ap_df_branches = ap_df_grp.agg(list).reset_index()\n",
    "    ap_df_branches['logodds_ratio'] = ap_df_branches['apical_prob'].apply(log_odds_ratio)\n",
    "    ap_df_branches['len_br'] = ap_df_branches['apical_prob'].apply(len)\n",
    "    ap_df_branches = ap_df_branches.query('len_br > 50').reset_index(drop=True)\n",
    "    ap_df_branches['logodds_clipped'] = ap_df_branches['logodds_ratio'].apply(lambda x: np.clip(x, -100, 100))\n",
    "\n",
    "    ap_df_branches['softmax_denom'] = ap_df_branches.groupby('root_id')['logodds_clipped'].transform(softmax_denominator)\n",
    "    ap_df_branches['median_logprob'] = ap_df_branches['apical_prob'].apply(np.median)\n",
    "    ap_df_branches['softmax_num'] = ap_df_branches['logodds_clipped'].transform(softmax_numerator)\n",
    "    ap_df_branches['apical_softmax'] = ap_df_branches['softmax_num'] / ap_df_branches['softmax_denom']\n",
    "    ap_df_branches['logodds_clipped_norm'] = ap_df_branches['logodds_clipped'] / 100\n",
    "    ap_df_branches['predict_apical'] = np.logical_and(ap_df_branches['logodds_clipped']>0, ap_df_branches['apical_softmax'] > 0.3)\n",
    "\n",
    "    apical_base = ap_df_branches.query('predict_apical')['base_skind'].values\n",
    "    input_df = nrn.anno.post_syn.df.reset_index(drop=True)\n",
    "    sk = nrn.skeleton\n",
    "    if len(apical_base) > 0:\n",
    "        apical_inds = np.concatenate([x.to_mesh_index for x in nrn.skeleton.downstream_nodes(apical_base)])\n",
    "\n",
    "        sk_downstream = nrn.skeleton.downstream_nodes(apical_base)\n",
    "        apical_sk_mask = np.sum(np.vstack([x.to_skel_mask for x in sk_downstream]), axis=0)>0\n",
    "        apical_mesh_mask = np.sum(np.vstack([x.to_mesh_mask for x in sk_downstream]), axis=0)>0\n",
    "\n",
    "        apical_minds = np.concatenate([x.to_mesh_index for x in sk_downstream])\n",
    "\n",
    "        apical_post_inds = nrn.anno.post_syn.filter_query(apical_mesh_mask).df.index\n",
    "        input_df.loc[apical_post_inds, 'is_apical'] = True\n",
    "        input_df['is_apical'] = input_df['is_apical'].fillna(False)\n",
    "    else:\n",
    "        input_df['is_apical'] = False\n",
    "        apical_sk_mask = np.full(len(sk.vertices), False)\n",
    "else:\n",
    "    nrn = apply_dendrite_mask(nrn)\n",
    "    dendrite_synapse_indices = nrn.anno.post_syn.df.index\n",
    "    dendrite_skind_mask = sk.node_mask\n",
    "\n",
    "    nrn.reset_mask()\n",
    "\n",
    "    input_df = nrn.anno.post_syn.df.reset_index(drop=True)\n",
    "    input_df['is_apical'] = False\n",
    "    apical_sk_mask = np.full(len(sk.vertices), False)\n",
    "    \n",
    "soma_post_inds = nrn.anno.post_syn.filter_query(nrn.root_region.to_mesh_mask).df.index\n",
    "input_df.loc[np.intersect1d(soma_post_inds, input_df.index), 'is_soma'] = True\n",
    "input_df['is_soma'] = input_df['is_soma'].fillna(False)\n",
    "\n",
    "input_df.loc[np.intersect1d(dendrite_synapse_indices, input_df.index), 'is_dendrite'] = True\n",
    "input_df['is_dendrite'] = input_df['is_dendrite'].fillna(False)\n",
    "\n",
    "input_df['dist_to_root'] = nrn.distance_to_root(input_df['post_pt_mesh_ind'])/1000\n",
    "\n",
    "input_df.to_feather(f'{synapse_dir}/{oid}_inputs.feather')\n",
    "logger.info(f'Saved synapses for {oid}')\n",
    "\n",
    "fig, ax = plt.subplots(figsize=(5,5), facecolor='w', dpi=150)\n",
    "\n",
    "axon_mask = ~dendrite_skind_mask\n",
    "if np.any(axon_mask):\n",
    "    ax.scatter(x=sk.vertices[axon_mask,0]/1000,\n",
    "            y=sk.vertices[axon_mask,1]/1000,\n",
    "            s=0.2,\n",
    "            alpha=0.5,\n",
    "            color=(0.059, 0.780, 1.000))\n",
    "\n",
    "basal_mask = np.logical_and(dendrite_skind_mask, ~apical_sk_mask)\n",
    "if np.any(basal_mask):\n",
    "    ax.scatter(x=sk.vertices[basal_mask,0]/1000,\n",
    "            y=sk.vertices[basal_mask,1]/1000,\n",
    "            s=0.2,\n",
    "            alpha=0.5,\n",
    "            color='k')\n",
    "    \n",
    "if np.any(apical_sk_mask):\n",
    "    ax.scatter(x=sk.vertices[apical_sk_mask,0]/1000,\n",
    "            y=sk.vertices[apical_sk_mask,1]/1000,\n",
    "            s=0.2,\n",
    "            alpha=0.5,\n",
    "            color='r')\n",
    "\n",
    "ax.plot(sk.vertices[sk.root, 0]/1000,\n",
    "        sk.vertices[sk.root, 1]/1000,\n",
    "        marker='o', color='w', markersize=5, markeredgecolor='k')\n",
    "\n",
    "ax.set_aspect('equal')\n",
    "plot_layers(layer_bnds, height_bounds, width_bounds, ax=ax, linestyle=':', linewidth=1, color='k')\n",
    "ax.set_title(f'{oid} | {row[\"cell_type\"]} | {len(input_df.query(\"is_apical\"))}/{len(input_df.query(\"is_soma\"))}/{len(input_df)}')"
   ]
  },
  {
   "cell_type": "code",
   "execution_count": null,
   "metadata": {},
   "outputs": [],
   "source": []
  },
  {
   "cell_type": "code",
   "execution_count": null,
   "metadata": {},
   "outputs": [],
   "source": [
    "synapse_dir"
   ]
  },
  {
   "cell_type": "code",
   "execution_count": null,
   "metadata": {},
   "outputs": [],
   "source": [
    "redo_rows = []\n",
    "for _, row in tqdm.tqdm(column_df.iterrows()):\n",
    "    oid = row['pt_root_id']\n",
    "    if not os.path.exists(f'{skel_dir}/{oid}.h5'):\n",
    "        redo_rows.append(row)\n",
    "        continue\n",
    "    try:\n",
    "        nrn = meshwork.load_meshwork(f'{skel_dir}/{oid}.h5')\n",
    "        sk = nrn.skeleton\n",
    "        if row['classification_system'] == 'aibs_coarse_excitatory': \n",
    "            feature_df = process_apical_features(nrn)\n",
    "\n",
    "            dendrite_synapse_indices = nrn.anno.post_syn.df.index\n",
    "            dendrite_skind_mask = nrn.skeleton.node_mask\n",
    "            nrn.reset_mask()\n",
    "\n",
    "            feature_array = feature_df[point_feature_columns].values\n",
    "            feature_df['apical_prob'] = point_model.predict_proba(feature_array)[:,1]\n",
    "\n",
    "            ap_df_grp = feature_df[['root_id', 'base_skind', 'apical_prob']].groupby(['root_id', 'base_skind'])\n",
    "            ap_df_branches = ap_df_grp.agg(list).reset_index()\n",
    "            ap_df_branches['logodds_ratio'] = ap_df_branches['apical_prob'].apply(log_odds_ratio)\n",
    "            ap_df_branches['len_br'] = ap_df_branches['apical_prob'].apply(len)\n",
    "            ap_df_branches = ap_df_branches.query('len_br > 50').reset_index(drop=True)\n",
    "            ap_df_branches['logodds_clipped'] = ap_df_branches['logodds_ratio'].apply(lambda x: np.clip(x, -100, 100))\n",
    "\n",
    "            ap_df_branches['softmax_denom'] = ap_df_branches.groupby('root_id')['logodds_clipped'].transform(softmax_denominator)\n",
    "            ap_df_branches['median_logprob'] = ap_df_branches['apical_prob'].apply(np.median)\n",
    "            ap_df_branches['softmax_num'] = ap_df_branches['logodds_clipped'].transform(softmax_numerator)\n",
    "            ap_df_branches['apical_softmax'] = ap_df_branches['softmax_num'] / ap_df_branches['softmax_denom']\n",
    "            ap_df_branches['logodds_clipped_norm'] = ap_df_branches['logodds_clipped'] / 100\n",
    "            ap_df_branches['predict_apical'] = np.logical_and(ap_df_branches['logodds_clipped']>0, ap_df_branches['apical_softmax'] > 0.3)\n",
    "\n",
    "            apical_base = ap_df_branches.query('predict_apical')['base_skind'].values\n",
    "            input_df = nrn.anno.post_syn.df.reset_index(drop=True)\n",
    "            if len(apical_base) > 0:\n",
    "                apical_inds = np.concatenate([x.to_mesh_index for x in nrn.skeleton.downstream_nodes(apical_base)])\n",
    "\n",
    "                sk_downstream = nrn.skeleton.downstream_nodes(apical_base)\n",
    "                apical_sk_mask = np.sum(np.vstack([x.to_skel_mask for x in sk_downstream]), axis=0)>0\n",
    "                apical_mesh_mask = np.sum(np.vstack([x.to_mesh_mask for x in sk_downstream]), axis=0)>0\n",
    "\n",
    "                apical_minds = np.concatenate([x.to_mesh_index for x in sk_downstream])\n",
    "\n",
    "                apical_post_inds = nrn.anno.post_syn.filter_query(apical_mesh_mask).df.index\n",
    "                input_df.loc[apical_post_inds, 'is_apical'] = True\n",
    "                input_df['is_apical'] = input_df['is_apical'].fillna(False)\n",
    "            else:\n",
    "                input_df['is_apical'] = False\n",
    "                apical_sk_mask = np.full(len(sk.vertices), False)\n",
    "        else:\n",
    "            nrn = apply_dendrite_mask(nrn)\n",
    "            dendrite_skind_mask = nrn.skeleton.node_mask\n",
    "            dendrite_synapse_indices = nrn.anno.post_syn.df.index\n",
    "            nrn.reset_mask()\n",
    "            \n",
    "            input_df = nrn.anno.post_syn.df.reset_index(drop=True)\n",
    "            input_df['is_apical'] = False\n",
    "            apical_sk_mask = np.full(len(sk.vertices), False)\n",
    "            \n",
    "        soma_post_inds = nrn.anno.post_syn.filter_query(nrn.root_region.to_mesh_mask).df.index\n",
    "        input_df.loc[np.intersect1d(soma_post_inds, input_df.index), 'is_soma'] = True\n",
    "        input_df['is_soma'] = input_df['is_soma'].fillna(False)\n",
    "\n",
    "        input_df.loc[np.intersect1d(dendrite_synapse_indices, input_df.index), 'is_dendrite'] = True\n",
    "        input_df['is_dendrite'] = input_df['is_dendrite'].fillna(False)\n",
    "\n",
    "        input_df['dist_to_root'] = nrn.distance_to_root(input_df['post_pt_mesh_ind'])/1000\n",
    "        \n",
    "        input_df.to_feather(f'{synapse_dir}/{oid}_inputs.feather')\n",
    "        logger.info(f'Saved synapses for {oid}')\n",
    "\n",
    "        fig, ax = plt.subplots(figsize=(5,5), facecolor='w', dpi=150)\n",
    "\n",
    "        axon_mask = ~dendrite_skind_mask\n",
    "        ax.scatter(x=sk.vertices[axon_mask,0]/1000,\n",
    "                y=sk.vertices[axon_mask,1]/1000,\n",
    "                s=0.2,\n",
    "                alpha=0.5,\n",
    "                color=(0.059, 0.780, 1.000))\n",
    "\n",
    "        basal_mask = np.logical_and(dendrite_skind_mask, ~apical_sk_mask)\n",
    "        ax.scatter(x=sk.vertices[basal_mask,0]/1000,\n",
    "                y=sk.vertices[basal_mask,1]/1000,\n",
    "                s=0.2,\n",
    "                alpha=0.5,\n",
    "                color='k')\n",
    "\n",
    "        ax.scatter(x=sk.vertices[apical_sk_mask,0]/1000,\n",
    "                y=sk.vertices[apical_sk_mask,1]/1000,\n",
    "                s=0.2,\n",
    "                alpha=0.5,\n",
    "                color='r')\n",
    "\n",
    "        ax.plot(sk.vertices[sk.root, 0]/1000,\n",
    "                sk.vertices[sk.root, 1]/1000,\n",
    "                marker='o', color='w', markersize=5, markeredgecolor='k')\n",
    "\n",
    "        ax.set_aspect('equal')\n",
    "        plot_layers(layer_bnds, height_bounds, width_bounds, ax=ax, linestyle=':', linewidth=1, color='k')\n",
    "        ax.set_title(f'{oid} | {row[\"cell_type\"]} | {len(input_df.query(\"is_apical\"))}/{len(input_df.query(\"is_soma\"))}/{len(input_df)}')\n",
    "\n",
    "        fig.savefig(f'{preview_dir}/apical_preview_{oid}.png', bbox_inches='tight')\n",
    "        plt.close(fig)\n",
    "        logger.info(f'Saved figure for {oid}')\n",
    "    except Exception as e:\n",
    "        logger.exception(e)"
   ]
  },
  {
   "cell_type": "code",
   "execution_count": null,
   "metadata": {},
   "outputs": [],
   "source": [
    "fig.savefig(f'{}')"
   ]
  },
  {
   "cell_type": "code",
   "execution_count": null,
   "metadata": {},
   "outputs": [],
   "source": [
    "fig, ax = plt.subplots(figsize=(4,4))\n",
    "sns.scatterplot(y='apical_softmax',\n",
    "                x='logodds_clipped', data=ap_df_branches, alpha=0.2, size='median_logprob', legend=False) \n",
    "ax.plot((-100, 100), (0.3, 0.3), 'k:')"
   ]
  },
  {
   "cell_type": "code",
   "execution_count": null,
   "metadata": {},
   "outputs": [],
   "source": [
    "isinstance(column_df.columns, (list, np.ndarray, pd.Index))"
   ]
  },
  {
   "cell_type": "code",
   "execution_count": null,
   "metadata": {},
   "outputs": [],
   "source": [
    "client.annotation.get_table_metadata('functional_coreg')"
   ]
  },
  {
   "cell_type": "code",
   "execution_count": null,
   "metadata": {},
   "outputs": [],
   "source": []
  },
  {
   "cell_type": "code",
   "execution_count": null,
   "metadata": {},
   "outputs": [],
   "source": []
  }
 ],
 "metadata": {
  "kernelspec": {
   "display_name": "analysis86",
   "language": "python",
   "name": "analysis86"
  },
  "language_info": {
   "codemirror_mode": {
    "name": "ipython",
    "version": 3
   },
   "file_extension": ".py",
   "mimetype": "text/x-python",
   "name": "python",
   "nbconvert_exporter": "python",
   "pygments_lexer": "ipython3",
   "version": "3.10.8"
  }
 },
 "nbformat": 4,
 "nbformat_minor": 4
}
